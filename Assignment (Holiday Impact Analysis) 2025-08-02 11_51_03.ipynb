{
 "cells": [
  {
   "cell_type": "code",
   "execution_count": 0,
   "metadata": {
    "application/vnd.databricks.v1+cell": {
     "cellMetadata": {
      "byteLimit": 2048000,
      "rowLimit": 10000
     },
     "inputWidgets": {},
     "nuid": "d57f868c-9f96-46d7-abdb-b09eac3ea201",
     "showTitle": false,
     "tableResultSettingsMap": {},
     "title": ""
    }
   },
   "outputs": [],
   "source": [
    "storageAccountKey = 'account_access_key'\n",
    "spark.conf.set(\"account_link\",storageAccountKey)"
   ]
  },
  {
   "cell_type": "markdown",
   "metadata": {
    "application/vnd.databricks.v1+cell": {
     "cellMetadata": {},
     "inputWidgets": {},
     "nuid": "5219689f-b1de-4b57-86e0-736a670ba0db",
     "showTitle": false,
     "tableResultSettingsMap": {},
     "title": ""
    }
   },
   "source": [
    "_Task_ 1: Data Ingestion\n",
    "\n",
    "Q1. Fetch the US 2025 public holidays from the provided API using Python.\n",
    "Q2. Convert the JSON response into a tabular format using Pandas.\n",
    "Q3. Save the dataset as a CSV file (us_public_holidays_2025.csv)."
   ]
  },
  {
   "cell_type": "code",
   "execution_count": 0,
   "metadata": {
    "application/vnd.databricks.v1+cell": {
     "cellMetadata": {
      "byteLimit": 2048000,
      "rowLimit": 10000
     },
     "inputWidgets": {},
     "nuid": "906ba287-725f-4dd3-b1e0-1872bb66c370",
     "showTitle": false,
     "tableResultSettingsMap": {},
     "title": ""
    }
   },
   "outputs": [],
   "source": [
    "import pandas as pd\n",
    "import requests"
   ]
  },
  {
   "cell_type": "code",
   "execution_count": 0,
   "metadata": {
    "application/vnd.databricks.v1+cell": {
     "cellMetadata": {
      "byteLimit": 2048000,
      "rowLimit": 10000
     },
     "inputWidgets": {},
     "nuid": "2d1ecc83-292d-4198-b0bc-0e4e0e259e77",
     "showTitle": false,
     "tableResultSettingsMap": {},
     "title": ""
    }
   },
   "outputs": [
    {
     "data": {
      "text/html": [
       "<style scoped>\n",
       "  .table-result-container {\n",
       "    max-height: 300px;\n",
       "    overflow: auto;\n",
       "  }\n",
       "  table, th, td {\n",
       "    border: 1px solid black;\n",
       "    border-collapse: collapse;\n",
       "  }\n",
       "  th, td {\n",
       "    padding: 5px;\n",
       "  }\n",
       "  th {\n",
       "    text-align: left;\n",
       "  }\n",
       "</style><div class='table-result-container'><table class='table-result'><thead style='background-color: white'><tr><th>date</th><th>localName</th><th>name</th><th>countryCode</th><th>fixed</th><th>global</th><th>counties</th><th>launchYear</th><th>types</th></tr></thead><tbody><tr><td>2025-01-01</td><td>New Year's Day</td><td>New Year's Day</td><td>US</td><td>false</td><td>true</td><td>null</td><td>null</td><td>List(Public)</td></tr><tr><td>2025-01-20</td><td>Martin Luther King, Jr. Day</td><td>Martin Luther King, Jr. Day</td><td>US</td><td>false</td><td>true</td><td>null</td><td>null</td><td>List(Public)</td></tr><tr><td>2025-02-12</td><td>Lincoln's Birthday</td><td>Lincoln's Birthday</td><td>US</td><td>false</td><td>false</td><td>List(US-CA, US-CT, US-IL, US-IN, US-KY, US-MI, US-NY, US-MO, US-OH)</td><td>null</td><td>List(Observance)</td></tr><tr><td>2025-02-17</td><td>Washington's Birthday</td><td>Presidents Day</td><td>US</td><td>false</td><td>true</td><td>null</td><td>null</td><td>List(Public)</td></tr><tr><td>2025-04-18</td><td>Good Friday</td><td>Good Friday</td><td>US</td><td>false</td><td>false</td><td>List(US-CT, US-DE, US-HI, US-IN, US-KY, US-LA, US-NC, US-ND, US-NJ, US-TN)</td><td>null</td><td>List(Public)</td></tr><tr><td>2025-04-18</td><td>Good Friday</td><td>Good Friday</td><td>US</td><td>false</td><td>false</td><td>List(US-TX)</td><td>null</td><td>List(Optional)</td></tr><tr><td>2025-05-08</td><td>Truman Day</td><td>Truman Day</td><td>US</td><td>false</td><td>false</td><td>List(US-MO)</td><td>null</td><td>List(School, Authorities)</td></tr><tr><td>2025-05-26</td><td>Memorial Day</td><td>Memorial Day</td><td>US</td><td>false</td><td>true</td><td>null</td><td>null</td><td>List(Public)</td></tr><tr><td>2025-06-19</td><td>Juneteenth National Independence Day</td><td>Juneteenth National Independence Day</td><td>US</td><td>false</td><td>true</td><td>null</td><td>null</td><td>List(Public)</td></tr><tr><td>2025-07-04</td><td>Independence Day</td><td>Independence Day</td><td>US</td><td>false</td><td>true</td><td>null</td><td>null</td><td>List(Public)</td></tr><tr><td>2025-09-01</td><td>Labour Day</td><td>Labor Day</td><td>US</td><td>false</td><td>true</td><td>null</td><td>null</td><td>List(Public)</td></tr><tr><td>2025-10-13</td><td>Columbus Day</td><td>Columbus Day</td><td>US</td><td>false</td><td>false</td><td>List(US-AL, US-AZ, US-CO, US-CT, US-GA, US-ID, US-IL, US-IN, US-IA, US-KS, US-KY, US-LA, US-ME, US-MD, US-MA, US-MS, US-MO, US-MT, US-NE, US-NH, US-NJ, US-NM, US-NY, US-NC, US-OH, US-OK, US-PA, US-RI, US-SC, US-TN, US-UT, US-VA, US-WV)</td><td>null</td><td>List(Public)</td></tr><tr><td>2025-10-13</td><td>Indigenous Peoples' Day</td><td>Indigenous Peoples' Day</td><td>US</td><td>false</td><td>false</td><td>List(US-AK, US-AL, US-CA, US-HI, US-IA, US-LA, US-ME, US-MI, US-MN, US-NC, US-NE, US-NM, US-OK, US-OR, US-SD, US-TX, US-VA, US-VT, US-WI)</td><td>null</td><td>List(Public)</td></tr><tr><td>2025-11-11</td><td>Veterans Day</td><td>Veterans Day</td><td>US</td><td>false</td><td>true</td><td>null</td><td>null</td><td>List(Public)</td></tr><tr><td>2025-11-27</td><td>Thanksgiving Day</td><td>Thanksgiving Day</td><td>US</td><td>false</td><td>true</td><td>null</td><td>null</td><td>List(Public)</td></tr><tr><td>2025-12-25</td><td>Christmas Day</td><td>Christmas Day</td><td>US</td><td>false</td><td>true</td><td>null</td><td>null</td><td>List(Public)</td></tr></tbody></table></div>"
      ]
     },
     "metadata": {
      "application/vnd.databricks.v1+output": {
       "addedWidgets": {},
       "aggData": [],
       "aggError": "",
       "aggOverflow": false,
       "aggSchema": [],
       "aggSeriesLimitReached": false,
       "aggType": "",
       "arguments": {},
       "columnCustomDisplayInfos": {},
       "data": [
        [
         "2025-01-01",
         "New Year's Day",
         "New Year's Day",
         "US",
         false,
         true,
         null,
         null,
         [
          "Public"
         ]
        ],
        [
         "2025-01-20",
         "Martin Luther King, Jr. Day",
         "Martin Luther King, Jr. Day",
         "US",
         false,
         true,
         null,
         null,
         [
          "Public"
         ]
        ],
        [
         "2025-02-12",
         "Lincoln's Birthday",
         "Lincoln's Birthday",
         "US",
         false,
         false,
         [
          "US-CA",
          "US-CT",
          "US-IL",
          "US-IN",
          "US-KY",
          "US-MI",
          "US-NY",
          "US-MO",
          "US-OH"
         ],
         null,
         [
          "Observance"
         ]
        ],
        [
         "2025-02-17",
         "Washington's Birthday",
         "Presidents Day",
         "US",
         false,
         true,
         null,
         null,
         [
          "Public"
         ]
        ],
        [
         "2025-04-18",
         "Good Friday",
         "Good Friday",
         "US",
         false,
         false,
         [
          "US-CT",
          "US-DE",
          "US-HI",
          "US-IN",
          "US-KY",
          "US-LA",
          "US-NC",
          "US-ND",
          "US-NJ",
          "US-TN"
         ],
         null,
         [
          "Public"
         ]
        ],
        [
         "2025-04-18",
         "Good Friday",
         "Good Friday",
         "US",
         false,
         false,
         [
          "US-TX"
         ],
         null,
         [
          "Optional"
         ]
        ],
        [
         "2025-05-08",
         "Truman Day",
         "Truman Day",
         "US",
         false,
         false,
         [
          "US-MO"
         ],
         null,
         [
          "School",
          "Authorities"
         ]
        ],
        [
         "2025-05-26",
         "Memorial Day",
         "Memorial Day",
         "US",
         false,
         true,
         null,
         null,
         [
          "Public"
         ]
        ],
        [
         "2025-06-19",
         "Juneteenth National Independence Day",
         "Juneteenth National Independence Day",
         "US",
         false,
         true,
         null,
         null,
         [
          "Public"
         ]
        ],
        [
         "2025-07-04",
         "Independence Day",
         "Independence Day",
         "US",
         false,
         true,
         null,
         null,
         [
          "Public"
         ]
        ],
        [
         "2025-09-01",
         "Labour Day",
         "Labor Day",
         "US",
         false,
         true,
         null,
         null,
         [
          "Public"
         ]
        ],
        [
         "2025-10-13",
         "Columbus Day",
         "Columbus Day",
         "US",
         false,
         false,
         [
          "US-AL",
          "US-AZ",
          "US-CO",
          "US-CT",
          "US-GA",
          "US-ID",
          "US-IL",
          "US-IN",
          "US-IA",
          "US-KS",
          "US-KY",
          "US-LA",
          "US-ME",
          "US-MD",
          "US-MA",
          "US-MS",
          "US-MO",
          "US-MT",
          "US-NE",
          "US-NH",
          "US-NJ",
          "US-NM",
          "US-NY",
          "US-NC",
          "US-OH",
          "US-OK",
          "US-PA",
          "US-RI",
          "US-SC",
          "US-TN",
          "US-UT",
          "US-VA",
          "US-WV"
         ],
         null,
         [
          "Public"
         ]
        ],
        [
         "2025-10-13",
         "Indigenous Peoples' Day",
         "Indigenous Peoples' Day",
         "US",
         false,
         false,
         [
          "US-AK",
          "US-AL",
          "US-CA",
          "US-HI",
          "US-IA",
          "US-LA",
          "US-ME",
          "US-MI",
          "US-MN",
          "US-NC",
          "US-NE",
          "US-NM",
          "US-OK",
          "US-OR",
          "US-SD",
          "US-TX",
          "US-VA",
          "US-VT",
          "US-WI"
         ],
         null,
         [
          "Public"
         ]
        ],
        [
         "2025-11-11",
         "Veterans Day",
         "Veterans Day",
         "US",
         false,
         true,
         null,
         null,
         [
          "Public"
         ]
        ],
        [
         "2025-11-27",
         "Thanksgiving Day",
         "Thanksgiving Day",
         "US",
         false,
         true,
         null,
         null,
         [
          "Public"
         ]
        ],
        [
         "2025-12-25",
         "Christmas Day",
         "Christmas Day",
         "US",
         false,
         true,
         null,
         null,
         [
          "Public"
         ]
        ]
       ],
       "datasetInfos": [],
       "dbfsResultPath": null,
       "isJsonSchema": true,
       "metadata": {},
       "overflow": false,
       "plotOptions": {
        "customPlotOptions": {},
        "displayType": "table",
        "pivotAggregation": null,
        "pivotColumns": null,
        "xColumns": null,
        "yColumns": null
       },
       "removedWidgets": [],
       "schema": [
        {
         "metadata": "{}",
         "name": "date",
         "type": "\"string\""
        },
        {
         "metadata": "{}",
         "name": "localName",
         "type": "\"string\""
        },
        {
         "metadata": "{}",
         "name": "name",
         "type": "\"string\""
        },
        {
         "metadata": "{}",
         "name": "countryCode",
         "type": "\"string\""
        },
        {
         "metadata": "{}",
         "name": "fixed",
         "type": "\"boolean\""
        },
        {
         "metadata": "{}",
         "name": "global",
         "type": "\"boolean\""
        },
        {
         "metadata": "{}",
         "name": "counties",
         "type": "{\"type\":\"array\",\"elementType\":\"string\",\"containsNull\":true}"
        },
        {
         "metadata": "{}",
         "name": "launchYear",
         "type": "\"void\""
        },
        {
         "metadata": "{}",
         "name": "types",
         "type": "{\"type\":\"array\",\"elementType\":\"string\",\"containsNull\":true}"
        }
       ],
       "type": "table"
      }
     },
     "output_type": "display_data"
    }
   ],
   "source": [
    "url=\"https://date.nager.at/api/v3/PublicHolidays/2025/US\"\n",
    "response=requests.get(url)\n",
    "data= response.json()\n",
    "df = pd.DataFrame(data)\n",
    "display(df)"
   ]
  },
  {
   "cell_type": "code",
   "execution_count": 0,
   "metadata": {
    "application/vnd.databricks.v1+cell": {
     "cellMetadata": {
      "byteLimit": 2048000,
      "rowLimit": 10000
     },
     "inputWidgets": {},
     "nuid": "63c34cfc-e6bd-49df-b3af-77c46b1c59dc",
     "showTitle": false,
     "tableResultSettingsMap": {},
     "title": ""
    }
   },
   "outputs": [
    {
     "name": "stdout",
     "output_type": "stream",
     "text": [
      "Created csv successfully\n"
     ]
    }
   ],
   "source": [
    "df.to_csv(\"us_public_holidays_2025.csv\", index=False)\n",
    "print(\"Created csv successfully\")"
   ]
  },
  {
   "cell_type": "code",
   "execution_count": 0,
   "metadata": {
    "application/vnd.databricks.v1+cell": {
     "cellMetadata": {
      "byteLimit": 2048000,
      "rowLimit": 10000
     },
     "inputWidgets": {},
     "nuid": "e2461a7d-7f19-4bc5-91a1-c6252d2ad120",
     "showTitle": false,
     "tableResultSettingsMap": {},
     "title": ""
    }
   },
   "outputs": [
    {
     "data": {
      "text/plain": [
       "date           object\n",
       "localName      object\n",
       "name           object\n",
       "countryCode    object\n",
       "fixed            bool\n",
       "global           bool\n",
       "counties       object\n",
       "launchYear     object\n",
       "types          object\n",
       "dtype: object"
      ]
     },
     "execution_count": 18,
     "metadata": {},
     "output_type": "execute_result"
    }
   ],
   "source": [
    "df.columns.values\n",
    "df.dtypes"
   ]
  },
  {
   "cell_type": "markdown",
   "metadata": {
    "application/vnd.databricks.v1+cell": {
     "cellMetadata": {},
     "inputWidgets": {},
     "nuid": "3600a8e5-5903-4eda-8596-4a66f182081b",
     "showTitle": false,
     "tableResultSettingsMap": {},
     "title": ""
    }
   },
   "source": [
    "Task 2: Load & Explore in PySpark\n",
    "\n",
    "Q4. Load the generated CSV into a PySpark DataFrame. \n",
    "Q5. Print the schema and identify which columns might need data type conversion. \n",
    "Q6. Display the top 5 rows for validation."
   ]
  },
  {
   "cell_type": "code",
   "execution_count": 0,
   "metadata": {
    "application/vnd.databricks.v1+cell": {
     "cellMetadata": {
      "byteLimit": 2048000,
      "rowLimit": 10000
     },
     "inputWidgets": {},
     "nuid": "25e9363d-c91f-4dfe-8f43-779112fd09cb",
     "showTitle": false,
     "tableResultSettingsMap": {},
     "title": ""
    }
   },
   "outputs": [
    {
     "data": {
      "text/html": [
       "<style scoped>\n",
       "  .table-result-container {\n",
       "    max-height: 300px;\n",
       "    overflow: auto;\n",
       "  }\n",
       "  table, th, td {\n",
       "    border: 1px solid black;\n",
       "    border-collapse: collapse;\n",
       "  }\n",
       "  th, td {\n",
       "    padding: 5px;\n",
       "  }\n",
       "  th {\n",
       "    text-align: left;\n",
       "  }\n",
       "</style><div class='table-result-container'><table class='table-result'><thead style='background-color: white'><tr><th>date</th><th>localName</th><th>name</th><th>countryCode</th><th>fixed</th><th>global</th><th>counties</th><th>launchYear</th><th>types</th></tr></thead><tbody><tr><td>2025-01-01</td><td>New Year's Day</td><td>New Year's Day</td><td>US</td><td>false</td><td>true</td><td>null</td><td>null</td><td>List(Public)</td></tr><tr><td>2025-01-20</td><td>Martin Luther King, Jr. Day</td><td>Martin Luther King, Jr. Day</td><td>US</td><td>false</td><td>true</td><td>null</td><td>null</td><td>List(Public)</td></tr><tr><td>2025-02-12</td><td>Lincoln's Birthday</td><td>Lincoln's Birthday</td><td>US</td><td>false</td><td>false</td><td>List(US-CA, US-CT, US-IL, US-IN, US-KY, US-MI, US-NY, US-MO, US-OH)</td><td>null</td><td>List(Observance)</td></tr><tr><td>2025-02-17</td><td>Washington's Birthday</td><td>Presidents Day</td><td>US</td><td>false</td><td>true</td><td>null</td><td>null</td><td>List(Public)</td></tr><tr><td>2025-04-18</td><td>Good Friday</td><td>Good Friday</td><td>US</td><td>false</td><td>false</td><td>List(US-CT, US-DE, US-HI, US-IN, US-KY, US-LA, US-NC, US-ND, US-NJ, US-TN)</td><td>null</td><td>List(Public)</td></tr><tr><td>2025-04-18</td><td>Good Friday</td><td>Good Friday</td><td>US</td><td>false</td><td>false</td><td>List(US-TX)</td><td>null</td><td>List(Optional)</td></tr><tr><td>2025-05-08</td><td>Truman Day</td><td>Truman Day</td><td>US</td><td>false</td><td>false</td><td>List(US-MO)</td><td>null</td><td>List(School, Authorities)</td></tr><tr><td>2025-05-26</td><td>Memorial Day</td><td>Memorial Day</td><td>US</td><td>false</td><td>true</td><td>null</td><td>null</td><td>List(Public)</td></tr><tr><td>2025-06-19</td><td>Juneteenth National Independence Day</td><td>Juneteenth National Independence Day</td><td>US</td><td>false</td><td>true</td><td>null</td><td>null</td><td>List(Public)</td></tr><tr><td>2025-07-04</td><td>Independence Day</td><td>Independence Day</td><td>US</td><td>false</td><td>true</td><td>null</td><td>null</td><td>List(Public)</td></tr><tr><td>2025-09-01</td><td>Labour Day</td><td>Labor Day</td><td>US</td><td>false</td><td>true</td><td>null</td><td>null</td><td>List(Public)</td></tr><tr><td>2025-10-13</td><td>Columbus Day</td><td>Columbus Day</td><td>US</td><td>false</td><td>false</td><td>List(US-AL, US-AZ, US-CO, US-CT, US-GA, US-ID, US-IL, US-IN, US-IA, US-KS, US-KY, US-LA, US-ME, US-MD, US-MA, US-MS, US-MO, US-MT, US-NE, US-NH, US-NJ, US-NM, US-NY, US-NC, US-OH, US-OK, US-PA, US-RI, US-SC, US-TN, US-UT, US-VA, US-WV)</td><td>null</td><td>List(Public)</td></tr><tr><td>2025-10-13</td><td>Indigenous Peoples' Day</td><td>Indigenous Peoples' Day</td><td>US</td><td>false</td><td>false</td><td>List(US-AK, US-AL, US-CA, US-HI, US-IA, US-LA, US-ME, US-MI, US-MN, US-NC, US-NE, US-NM, US-OK, US-OR, US-SD, US-TX, US-VA, US-VT, US-WI)</td><td>null</td><td>List(Public)</td></tr><tr><td>2025-11-11</td><td>Veterans Day</td><td>Veterans Day</td><td>US</td><td>false</td><td>true</td><td>null</td><td>null</td><td>List(Public)</td></tr><tr><td>2025-11-27</td><td>Thanksgiving Day</td><td>Thanksgiving Day</td><td>US</td><td>false</td><td>true</td><td>null</td><td>null</td><td>List(Public)</td></tr><tr><td>2025-12-25</td><td>Christmas Day</td><td>Christmas Day</td><td>US</td><td>false</td><td>true</td><td>null</td><td>null</td><td>List(Public)</td></tr></tbody></table></div>"
      ]
     },
     "metadata": {
      "application/vnd.databricks.v1+output": {
       "addedWidgets": {},
       "aggData": [],
       "aggError": "",
       "aggOverflow": false,
       "aggSchema": [],
       "aggSeriesLimitReached": false,
       "aggType": "",
       "arguments": {},
       "columnCustomDisplayInfos": {},
       "data": [
        [
         "2025-01-01",
         "New Year's Day",
         "New Year's Day",
         "US",
         false,
         true,
         null,
         null,
         [
          "Public"
         ]
        ],
        [
         "2025-01-20",
         "Martin Luther King, Jr. Day",
         "Martin Luther King, Jr. Day",
         "US",
         false,
         true,
         null,
         null,
         [
          "Public"
         ]
        ],
        [
         "2025-02-12",
         "Lincoln's Birthday",
         "Lincoln's Birthday",
         "US",
         false,
         false,
         [
          "US-CA",
          "US-CT",
          "US-IL",
          "US-IN",
          "US-KY",
          "US-MI",
          "US-NY",
          "US-MO",
          "US-OH"
         ],
         null,
         [
          "Observance"
         ]
        ],
        [
         "2025-02-17",
         "Washington's Birthday",
         "Presidents Day",
         "US",
         false,
         true,
         null,
         null,
         [
          "Public"
         ]
        ],
        [
         "2025-04-18",
         "Good Friday",
         "Good Friday",
         "US",
         false,
         false,
         [
          "US-CT",
          "US-DE",
          "US-HI",
          "US-IN",
          "US-KY",
          "US-LA",
          "US-NC",
          "US-ND",
          "US-NJ",
          "US-TN"
         ],
         null,
         [
          "Public"
         ]
        ],
        [
         "2025-04-18",
         "Good Friday",
         "Good Friday",
         "US",
         false,
         false,
         [
          "US-TX"
         ],
         null,
         [
          "Optional"
         ]
        ],
        [
         "2025-05-08",
         "Truman Day",
         "Truman Day",
         "US",
         false,
         false,
         [
          "US-MO"
         ],
         null,
         [
          "School",
          "Authorities"
         ]
        ],
        [
         "2025-05-26",
         "Memorial Day",
         "Memorial Day",
         "US",
         false,
         true,
         null,
         null,
         [
          "Public"
         ]
        ],
        [
         "2025-06-19",
         "Juneteenth National Independence Day",
         "Juneteenth National Independence Day",
         "US",
         false,
         true,
         null,
         null,
         [
          "Public"
         ]
        ],
        [
         "2025-07-04",
         "Independence Day",
         "Independence Day",
         "US",
         false,
         true,
         null,
         null,
         [
          "Public"
         ]
        ],
        [
         "2025-09-01",
         "Labour Day",
         "Labor Day",
         "US",
         false,
         true,
         null,
         null,
         [
          "Public"
         ]
        ],
        [
         "2025-10-13",
         "Columbus Day",
         "Columbus Day",
         "US",
         false,
         false,
         [
          "US-AL",
          "US-AZ",
          "US-CO",
          "US-CT",
          "US-GA",
          "US-ID",
          "US-IL",
          "US-IN",
          "US-IA",
          "US-KS",
          "US-KY",
          "US-LA",
          "US-ME",
          "US-MD",
          "US-MA",
          "US-MS",
          "US-MO",
          "US-MT",
          "US-NE",
          "US-NH",
          "US-NJ",
          "US-NM",
          "US-NY",
          "US-NC",
          "US-OH",
          "US-OK",
          "US-PA",
          "US-RI",
          "US-SC",
          "US-TN",
          "US-UT",
          "US-VA",
          "US-WV"
         ],
         null,
         [
          "Public"
         ]
        ],
        [
         "2025-10-13",
         "Indigenous Peoples' Day",
         "Indigenous Peoples' Day",
         "US",
         false,
         false,
         [
          "US-AK",
          "US-AL",
          "US-CA",
          "US-HI",
          "US-IA",
          "US-LA",
          "US-ME",
          "US-MI",
          "US-MN",
          "US-NC",
          "US-NE",
          "US-NM",
          "US-OK",
          "US-OR",
          "US-SD",
          "US-TX",
          "US-VA",
          "US-VT",
          "US-WI"
         ],
         null,
         [
          "Public"
         ]
        ],
        [
         "2025-11-11",
         "Veterans Day",
         "Veterans Day",
         "US",
         false,
         true,
         null,
         null,
         [
          "Public"
         ]
        ],
        [
         "2025-11-27",
         "Thanksgiving Day",
         "Thanksgiving Day",
         "US",
         false,
         true,
         null,
         null,
         [
          "Public"
         ]
        ],
        [
         "2025-12-25",
         "Christmas Day",
         "Christmas Day",
         "US",
         false,
         true,
         null,
         null,
         [
          "Public"
         ]
        ]
       ],
       "datasetInfos": [],
       "dbfsResultPath": null,
       "isJsonSchema": true,
       "metadata": {},
       "overflow": false,
       "plotOptions": {
        "customPlotOptions": {},
        "displayType": "table",
        "pivotAggregation": null,
        "pivotColumns": null,
        "xColumns": null,
        "yColumns": null
       },
       "removedWidgets": [],
       "schema": [
        {
         "metadata": "{}",
         "name": "date",
         "type": "\"string\""
        },
        {
         "metadata": "{}",
         "name": "localName",
         "type": "\"string\""
        },
        {
         "metadata": "{}",
         "name": "name",
         "type": "\"string\""
        },
        {
         "metadata": "{}",
         "name": "countryCode",
         "type": "\"string\""
        },
        {
         "metadata": "{}",
         "name": "fixed",
         "type": "\"boolean\""
        },
        {
         "metadata": "{}",
         "name": "global",
         "type": "\"boolean\""
        },
        {
         "metadata": "{}",
         "name": "counties",
         "type": "{\"type\":\"array\",\"elementType\":\"string\",\"containsNull\":true}"
        },
        {
         "metadata": "{}",
         "name": "launchYear",
         "type": "\"void\""
        },
        {
         "metadata": "{}",
         "name": "types",
         "type": "{\"type\":\"array\",\"elementType\":\"string\",\"containsNull\":true}"
        }
       ],
       "type": "table"
      }
     },
     "output_type": "display_data"
    }
   ],
   "source": [
    "sourceSparkDF = spark.createDataFrame(df)\n",
    "display(sourceSparkDF)"
   ]
  },
  {
   "cell_type": "code",
   "execution_count": 0,
   "metadata": {
    "application/vnd.databricks.v1+cell": {
     "cellMetadata": {
      "byteLimit": 2048000,
      "rowLimit": 10000
     },
     "inputWidgets": {},
     "nuid": "0dd9677a-bad8-4bd6-bf6d-293a7705c02e",
     "showTitle": false,
     "tableResultSettingsMap": {},
     "title": ""
    }
   },
   "outputs": [],
   "source": [
    "sourceCSVFilePath = \"abfss://working-labs@myfirstdemostorageacc.dfs.core.windows.net/bronze\""
   ]
  },
  {
   "cell_type": "code",
   "execution_count": 0,
   "metadata": {
    "application/vnd.databricks.v1+cell": {
     "cellMetadata": {
      "byteLimit": 2048000,
      "rowLimit": 10000
     },
     "inputWidgets": {},
     "nuid": "a7e711b4-7a96-4681-9318-7eb4805bfa73",
     "showTitle": false,
     "tableResultSettingsMap": {},
     "title": ""
    }
   },
   "outputs": [],
   "source": [
    "from pyspark.sql.functions import col, concat_ws\n",
    "\n",
    "sourceSparkDF = sourceSparkDF.withColumn(\"counties\", concat_ws(\",\", col(\"counties\")))\n",
    "sourceSparkDF.write.mode(\"overwrite\").save(sourceCSVFilePath)\n"
   ]
  },
  {
   "cell_type": "code",
   "execution_count": 0,
   "metadata": {
    "application/vnd.databricks.v1+cell": {
     "cellMetadata": {
      "byteLimit": 2048000,
      "rowLimit": 10000
     },
     "inputWidgets": {},
     "nuid": "9cc95f1b-c302-4da9-b9b9-401bac8c075e",
     "showTitle": false,
     "tableResultSettingsMap": {},
     "title": ""
    }
   },
   "outputs": [
    {
     "name": "stdout",
     "output_type": "stream",
     "text": [
      "root\n",
      " |-- date: string (nullable = true)\n",
      " |-- localName: string (nullable = true)\n",
      " |-- name: string (nullable = true)\n",
      " |-- countryCode: string (nullable = true)\n",
      " |-- fixed: boolean (nullable = true)\n",
      " |-- global: boolean (nullable = true)\n",
      " |-- counties: string (nullable = false)\n",
      " |-- launchYear: void (nullable = true)\n",
      " |-- types: array (nullable = true)\n",
      " |    |-- element: string (containsNull = true)\n",
      "\n"
     ]
    }
   ],
   "source": [
    "sourceSparkDF.printSchema()"
   ]
  },
  {
   "cell_type": "code",
   "execution_count": 0,
   "metadata": {
    "application/vnd.databricks.v1+cell": {
     "cellMetadata": {
      "byteLimit": 2048000,
      "rowLimit": 10000
     },
     "inputWidgets": {},
     "nuid": "d1692966-0e49-4626-bd7e-1b8f035423c0",
     "showTitle": false,
     "tableResultSettingsMap": {},
     "title": ""
    }
   },
   "outputs": [
    {
     "name": "stdout",
     "output_type": "stream",
     "text": [
      "+----------+--------------------+--------------------+-----------+-----+------+--------------------+----------+------------+\n",
      "|      date|           localName|                name|countryCode|fixed|global|            counties|launchYear|       types|\n",
      "+----------+--------------------+--------------------+-----------+-----+------+--------------------+----------+------------+\n",
      "|2025-01-01|      New Year's Day|      New Year's Day|         US|false|  true|                    |      NULL|    [Public]|\n",
      "|2025-01-20|Martin Luther Kin...|Martin Luther Kin...|         US|false|  true|                    |      NULL|    [Public]|\n",
      "|2025-02-12|  Lincoln's Birthday|  Lincoln's Birthday|         US|false| false|US-CA,US-CT,US-IL...|      NULL|[Observance]|\n",
      "|2025-02-17|Washington's Birt...|      Presidents Day|         US|false|  true|                    |      NULL|    [Public]|\n",
      "|2025-04-18|         Good Friday|         Good Friday|         US|false| false|US-CT,US-DE,US-HI...|      NULL|    [Public]|\n",
      "+----------+--------------------+--------------------+-----------+-----+------+--------------------+----------+------------+\n",
      "only showing top 5 rows\n"
     ]
    },
    {
     "data": {
      "text/html": [
       "<style scoped>\n",
       "  .table-result-container {\n",
       "    max-height: 300px;\n",
       "    overflow: auto;\n",
       "  }\n",
       "  table, th, td {\n",
       "    border: 1px solid black;\n",
       "    border-collapse: collapse;\n",
       "  }\n",
       "  th, td {\n",
       "    padding: 5px;\n",
       "  }\n",
       "  th {\n",
       "    text-align: left;\n",
       "  }\n",
       "</style><div class='table-result-container'><table class='table-result'><thead style='background-color: white'><tr><th>date</th><th>localName</th><th>name</th><th>countryCode</th><th>fixed</th><th>global</th><th>counties</th><th>launchYear</th><th>types</th></tr></thead><tbody><tr><td>2025-01-01</td><td>New Year's Day</td><td>New Year's Day</td><td>US</td><td>false</td><td>true</td><td></td><td>null</td><td>List(Public)</td></tr><tr><td>2025-01-20</td><td>Martin Luther King, Jr. Day</td><td>Martin Luther King, Jr. Day</td><td>US</td><td>false</td><td>true</td><td></td><td>null</td><td>List(Public)</td></tr><tr><td>2025-02-12</td><td>Lincoln's Birthday</td><td>Lincoln's Birthday</td><td>US</td><td>false</td><td>false</td><td>US-CA,US-CT,US-IL,US-IN,US-KY,US-MI,US-NY,US-MO,US-OH</td><td>null</td><td>List(Observance)</td></tr><tr><td>2025-02-17</td><td>Washington's Birthday</td><td>Presidents Day</td><td>US</td><td>false</td><td>true</td><td></td><td>null</td><td>List(Public)</td></tr><tr><td>2025-04-18</td><td>Good Friday</td><td>Good Friday</td><td>US</td><td>false</td><td>false</td><td>US-CT,US-DE,US-HI,US-IN,US-KY,US-LA,US-NC,US-ND,US-NJ,US-TN</td><td>null</td><td>List(Public)</td></tr><tr><td>2025-04-18</td><td>Good Friday</td><td>Good Friday</td><td>US</td><td>false</td><td>false</td><td>US-TX</td><td>null</td><td>List(Optional)</td></tr><tr><td>2025-05-08</td><td>Truman Day</td><td>Truman Day</td><td>US</td><td>false</td><td>false</td><td>US-MO</td><td>null</td><td>List(School, Authorities)</td></tr><tr><td>2025-05-26</td><td>Memorial Day</td><td>Memorial Day</td><td>US</td><td>false</td><td>true</td><td></td><td>null</td><td>List(Public)</td></tr><tr><td>2025-06-19</td><td>Juneteenth National Independence Day</td><td>Juneteenth National Independence Day</td><td>US</td><td>false</td><td>true</td><td></td><td>null</td><td>List(Public)</td></tr><tr><td>2025-07-04</td><td>Independence Day</td><td>Independence Day</td><td>US</td><td>false</td><td>true</td><td></td><td>null</td><td>List(Public)</td></tr><tr><td>2025-09-01</td><td>Labour Day</td><td>Labor Day</td><td>US</td><td>false</td><td>true</td><td></td><td>null</td><td>List(Public)</td></tr><tr><td>2025-10-13</td><td>Columbus Day</td><td>Columbus Day</td><td>US</td><td>false</td><td>false</td><td>US-AL,US-AZ,US-CO,US-CT,US-GA,US-ID,US-IL,US-IN,US-IA,US-KS,US-KY,US-LA,US-ME,US-MD,US-MA,US-MS,US-MO,US-MT,US-NE,US-NH,US-NJ,US-NM,US-NY,US-NC,US-OH,US-OK,US-PA,US-RI,US-SC,US-TN,US-UT,US-VA,US-WV</td><td>null</td><td>List(Public)</td></tr><tr><td>2025-10-13</td><td>Indigenous Peoples' Day</td><td>Indigenous Peoples' Day</td><td>US</td><td>false</td><td>false</td><td>US-AK,US-AL,US-CA,US-HI,US-IA,US-LA,US-ME,US-MI,US-MN,US-NC,US-NE,US-NM,US-OK,US-OR,US-SD,US-TX,US-VA,US-VT,US-WI</td><td>null</td><td>List(Public)</td></tr><tr><td>2025-11-11</td><td>Veterans Day</td><td>Veterans Day</td><td>US</td><td>false</td><td>true</td><td></td><td>null</td><td>List(Public)</td></tr><tr><td>2025-11-27</td><td>Thanksgiving Day</td><td>Thanksgiving Day</td><td>US</td><td>false</td><td>true</td><td></td><td>null</td><td>List(Public)</td></tr><tr><td>2025-12-25</td><td>Christmas Day</td><td>Christmas Day</td><td>US</td><td>false</td><td>true</td><td></td><td>null</td><td>List(Public)</td></tr></tbody></table></div>"
      ]
     },
     "metadata": {
      "application/vnd.databricks.v1+output": {
       "addedWidgets": {},
       "aggData": [],
       "aggError": "",
       "aggOverflow": false,
       "aggSchema": [],
       "aggSeriesLimitReached": false,
       "aggType": "",
       "arguments": {},
       "columnCustomDisplayInfos": {},
       "data": [
        [
         "2025-01-01",
         "New Year's Day",
         "New Year's Day",
         "US",
         false,
         true,
         "",
         null,
         [
          "Public"
         ]
        ],
        [
         "2025-01-20",
         "Martin Luther King, Jr. Day",
         "Martin Luther King, Jr. Day",
         "US",
         false,
         true,
         "",
         null,
         [
          "Public"
         ]
        ],
        [
         "2025-02-12",
         "Lincoln's Birthday",
         "Lincoln's Birthday",
         "US",
         false,
         false,
         "US-CA,US-CT,US-IL,US-IN,US-KY,US-MI,US-NY,US-MO,US-OH",
         null,
         [
          "Observance"
         ]
        ],
        [
         "2025-02-17",
         "Washington's Birthday",
         "Presidents Day",
         "US",
         false,
         true,
         "",
         null,
         [
          "Public"
         ]
        ],
        [
         "2025-04-18",
         "Good Friday",
         "Good Friday",
         "US",
         false,
         false,
         "US-CT,US-DE,US-HI,US-IN,US-KY,US-LA,US-NC,US-ND,US-NJ,US-TN",
         null,
         [
          "Public"
         ]
        ],
        [
         "2025-04-18",
         "Good Friday",
         "Good Friday",
         "US",
         false,
         false,
         "US-TX",
         null,
         [
          "Optional"
         ]
        ],
        [
         "2025-05-08",
         "Truman Day",
         "Truman Day",
         "US",
         false,
         false,
         "US-MO",
         null,
         [
          "School",
          "Authorities"
         ]
        ],
        [
         "2025-05-26",
         "Memorial Day",
         "Memorial Day",
         "US",
         false,
         true,
         "",
         null,
         [
          "Public"
         ]
        ],
        [
         "2025-06-19",
         "Juneteenth National Independence Day",
         "Juneteenth National Independence Day",
         "US",
         false,
         true,
         "",
         null,
         [
          "Public"
         ]
        ],
        [
         "2025-07-04",
         "Independence Day",
         "Independence Day",
         "US",
         false,
         true,
         "",
         null,
         [
          "Public"
         ]
        ],
        [
         "2025-09-01",
         "Labour Day",
         "Labor Day",
         "US",
         false,
         true,
         "",
         null,
         [
          "Public"
         ]
        ],
        [
         "2025-10-13",
         "Columbus Day",
         "Columbus Day",
         "US",
         false,
         false,
         "US-AL,US-AZ,US-CO,US-CT,US-GA,US-ID,US-IL,US-IN,US-IA,US-KS,US-KY,US-LA,US-ME,US-MD,US-MA,US-MS,US-MO,US-MT,US-NE,US-NH,US-NJ,US-NM,US-NY,US-NC,US-OH,US-OK,US-PA,US-RI,US-SC,US-TN,US-UT,US-VA,US-WV",
         null,
         [
          "Public"
         ]
        ],
        [
         "2025-10-13",
         "Indigenous Peoples' Day",
         "Indigenous Peoples' Day",
         "US",
         false,
         false,
         "US-AK,US-AL,US-CA,US-HI,US-IA,US-LA,US-ME,US-MI,US-MN,US-NC,US-NE,US-NM,US-OK,US-OR,US-SD,US-TX,US-VA,US-VT,US-WI",
         null,
         [
          "Public"
         ]
        ],
        [
         "2025-11-11",
         "Veterans Day",
         "Veterans Day",
         "US",
         false,
         true,
         "",
         null,
         [
          "Public"
         ]
        ],
        [
         "2025-11-27",
         "Thanksgiving Day",
         "Thanksgiving Day",
         "US",
         false,
         true,
         "",
         null,
         [
          "Public"
         ]
        ],
        [
         "2025-12-25",
         "Christmas Day",
         "Christmas Day",
         "US",
         false,
         true,
         "",
         null,
         [
          "Public"
         ]
        ]
       ],
       "datasetInfos": [],
       "dbfsResultPath": null,
       "isJsonSchema": true,
       "metadata": {},
       "overflow": false,
       "plotOptions": {
        "customPlotOptions": {},
        "displayType": "table",
        "pivotAggregation": null,
        "pivotColumns": null,
        "xColumns": null,
        "yColumns": null
       },
       "removedWidgets": [],
       "schema": [
        {
         "metadata": "{}",
         "name": "date",
         "type": "\"string\""
        },
        {
         "metadata": "{}",
         "name": "localName",
         "type": "\"string\""
        },
        {
         "metadata": "{}",
         "name": "name",
         "type": "\"string\""
        },
        {
         "metadata": "{}",
         "name": "countryCode",
         "type": "\"string\""
        },
        {
         "metadata": "{}",
         "name": "fixed",
         "type": "\"boolean\""
        },
        {
         "metadata": "{}",
         "name": "global",
         "type": "\"boolean\""
        },
        {
         "metadata": "{}",
         "name": "counties",
         "type": "\"string\""
        },
        {
         "metadata": "{}",
         "name": "launchYear",
         "type": "\"void\""
        },
        {
         "metadata": "{}",
         "name": "types",
         "type": "{\"type\":\"array\",\"elementType\":\"string\",\"containsNull\":true}"
        }
       ],
       "type": "table"
      }
     },
     "output_type": "display_data"
    }
   ],
   "source": [
    "sourceSparkDF.show(5)\n",
    "display(sourceSparkDF)"
   ]
  },
  {
   "cell_type": "markdown",
   "metadata": {
    "application/vnd.databricks.v1+cell": {
     "cellMetadata": {},
     "inputWidgets": {},
     "nuid": "3e064dee-f028-4570-a050-1efd28a7167c",
     "showTitle": false,
     "tableResultSettingsMap": {},
     "title": ""
    }
   },
   "source": [
    "Task 3: Data Type & Date Transformations\n",
    "\n",
    "Q7. Convert the date string column to a proper DateType.\n",
    "Q8. Add two new columns:\n",
    "\n",
    "holiday_month (Extract month from the date)\n",
    "weekday_name (Extract full weekday name, e.g., Monday)\n",
    "Q9. Which day of the week has the most holidays in 2025?\n"
   ]
  },
  {
   "cell_type": "code",
   "execution_count": 0,
   "metadata": {
    "application/vnd.databricks.v1+cell": {
     "cellMetadata": {
      "byteLimit": 2048000,
      "rowLimit": 10000
     },
     "inputWidgets": {},
     "nuid": "6ddca746-c2b4-4519-baf5-d470385ed67d",
     "showTitle": false,
     "tableResultSettingsMap": {},
     "title": ""
    }
   },
   "outputs": [
    {
     "name": "stdout",
     "output_type": "stream",
     "text": [
      "root\n",
      " |-- date: date (nullable = true)\n",
      " |-- localName: string (nullable = true)\n",
      " |-- name: string (nullable = true)\n",
      " |-- countryCode: string (nullable = true)\n",
      " |-- fixed: boolean (nullable = true)\n",
      " |-- global: boolean (nullable = true)\n",
      " |-- counties: string (nullable = false)\n",
      " |-- launchYear: void (nullable = true)\n",
      " |-- types: array (nullable = true)\n",
      " |    |-- element: string (containsNull = true)\n",
      "\n"
     ]
    }
   ],
   "source": [
    "from pyspark.sql.functions import to_date\n",
    "sourceSparkDF = sourceSparkDF.withColumn(\"date\", to_date(col(\"date\"), \"yyyy-MM-dd\"))\n",
    "sourceSparkDF.printSchema()"
   ]
  },
  {
   "cell_type": "code",
   "execution_count": 0,
   "metadata": {
    "application/vnd.databricks.v1+cell": {
     "cellMetadata": {
      "byteLimit": 2048000,
      "rowLimit": 10000
     },
     "inputWidgets": {},
     "nuid": "7fbcb3c7-0d5c-48d1-80a8-e69c7fefb61c",
     "showTitle": false,
     "tableResultSettingsMap": {
      "0": {
       "dataGridStateBlob": "{\"version\":1,\"tableState\":{\"columnPinning\":{\"left\":[\"#row_number#\"],\"right\":[]},\"columnSizing\":{},\"columnVisibility\":{}},\"settings\":{\"columns\":{}},\"syncTimestamp\":1754119202077}",
       "filterBlob": null,
       "queryPlanFiltersBlob": null,
       "tableResultIndex": 0
      }
     },
     "title": ""
    }
   },
   "outputs": [
    {
     "data": {
      "text/html": [
       "<style scoped>\n",
       "  .table-result-container {\n",
       "    max-height: 300px;\n",
       "    overflow: auto;\n",
       "  }\n",
       "  table, th, td {\n",
       "    border: 1px solid black;\n",
       "    border-collapse: collapse;\n",
       "  }\n",
       "  th, td {\n",
       "    padding: 5px;\n",
       "  }\n",
       "  th {\n",
       "    text-align: left;\n",
       "  }\n",
       "</style><div class='table-result-container'><table class='table-result'><thead style='background-color: white'><tr><th>date</th><th>localName</th><th>name</th><th>countryCode</th><th>fixed</th><th>global</th><th>counties</th><th>launchYear</th><th>types</th><th>holiday_month</th><th>Weekday_name</th></tr></thead><tbody><tr><td>2025-01-01</td><td>New Year's Day</td><td>New Year's Day</td><td>US</td><td>false</td><td>true</td><td></td><td>null</td><td>List(Public)</td><td>Jan</td><td>Wednesday</td></tr><tr><td>2025-01-20</td><td>Martin Luther King, Jr. Day</td><td>Martin Luther King, Jr. Day</td><td>US</td><td>false</td><td>true</td><td></td><td>null</td><td>List(Public)</td><td>Jan</td><td>Monday</td></tr><tr><td>2025-02-12</td><td>Lincoln's Birthday</td><td>Lincoln's Birthday</td><td>US</td><td>false</td><td>false</td><td>US-CA,US-CT,US-IL,US-IN,US-KY,US-MI,US-NY,US-MO,US-OH</td><td>null</td><td>List(Observance)</td><td>Feb</td><td>Wednesday</td></tr><tr><td>2025-02-17</td><td>Washington's Birthday</td><td>Presidents Day</td><td>US</td><td>false</td><td>true</td><td></td><td>null</td><td>List(Public)</td><td>Feb</td><td>Monday</td></tr><tr><td>2025-04-18</td><td>Good Friday</td><td>Good Friday</td><td>US</td><td>false</td><td>false</td><td>US-CT,US-DE,US-HI,US-IN,US-KY,US-LA,US-NC,US-ND,US-NJ,US-TN</td><td>null</td><td>List(Public)</td><td>Apr</td><td>Friday</td></tr><tr><td>2025-04-18</td><td>Good Friday</td><td>Good Friday</td><td>US</td><td>false</td><td>false</td><td>US-TX</td><td>null</td><td>List(Optional)</td><td>Apr</td><td>Friday</td></tr><tr><td>2025-05-08</td><td>Truman Day</td><td>Truman Day</td><td>US</td><td>false</td><td>false</td><td>US-MO</td><td>null</td><td>List(School, Authorities)</td><td>May</td><td>Thursday</td></tr><tr><td>2025-05-26</td><td>Memorial Day</td><td>Memorial Day</td><td>US</td><td>false</td><td>true</td><td></td><td>null</td><td>List(Public)</td><td>May</td><td>Monday</td></tr><tr><td>2025-06-19</td><td>Juneteenth National Independence Day</td><td>Juneteenth National Independence Day</td><td>US</td><td>false</td><td>true</td><td></td><td>null</td><td>List(Public)</td><td>Jun</td><td>Thursday</td></tr><tr><td>2025-07-04</td><td>Independence Day</td><td>Independence Day</td><td>US</td><td>false</td><td>true</td><td></td><td>null</td><td>List(Public)</td><td>Jul</td><td>Friday</td></tr><tr><td>2025-09-01</td><td>Labour Day</td><td>Labor Day</td><td>US</td><td>false</td><td>true</td><td></td><td>null</td><td>List(Public)</td><td>Sep</td><td>Monday</td></tr><tr><td>2025-10-13</td><td>Columbus Day</td><td>Columbus Day</td><td>US</td><td>false</td><td>false</td><td>US-AL,US-AZ,US-CO,US-CT,US-GA,US-ID,US-IL,US-IN,US-IA,US-KS,US-KY,US-LA,US-ME,US-MD,US-MA,US-MS,US-MO,US-MT,US-NE,US-NH,US-NJ,US-NM,US-NY,US-NC,US-OH,US-OK,US-PA,US-RI,US-SC,US-TN,US-UT,US-VA,US-WV</td><td>null</td><td>List(Public)</td><td>Oct</td><td>Monday</td></tr><tr><td>2025-10-13</td><td>Indigenous Peoples' Day</td><td>Indigenous Peoples' Day</td><td>US</td><td>false</td><td>false</td><td>US-AK,US-AL,US-CA,US-HI,US-IA,US-LA,US-ME,US-MI,US-MN,US-NC,US-NE,US-NM,US-OK,US-OR,US-SD,US-TX,US-VA,US-VT,US-WI</td><td>null</td><td>List(Public)</td><td>Oct</td><td>Monday</td></tr><tr><td>2025-11-11</td><td>Veterans Day</td><td>Veterans Day</td><td>US</td><td>false</td><td>true</td><td></td><td>null</td><td>List(Public)</td><td>Nov</td><td>Tuesday</td></tr><tr><td>2025-11-27</td><td>Thanksgiving Day</td><td>Thanksgiving Day</td><td>US</td><td>false</td><td>true</td><td></td><td>null</td><td>List(Public)</td><td>Nov</td><td>Thursday</td></tr><tr><td>2025-12-25</td><td>Christmas Day</td><td>Christmas Day</td><td>US</td><td>false</td><td>true</td><td></td><td>null</td><td>List(Public)</td><td>Dec</td><td>Thursday</td></tr></tbody></table></div>"
      ]
     },
     "metadata": {
      "application/vnd.databricks.v1+output": {
       "addedWidgets": {},
       "aggData": [],
       "aggError": "",
       "aggOverflow": false,
       "aggSchema": [],
       "aggSeriesLimitReached": false,
       "aggType": "",
       "arguments": {},
       "columnCustomDisplayInfos": {},
       "data": [
        [
         "2025-01-01",
         "New Year's Day",
         "New Year's Day",
         "US",
         false,
         true,
         "",
         null,
         [
          "Public"
         ],
         "Jan",
         "Wednesday"
        ],
        [
         "2025-01-20",
         "Martin Luther King, Jr. Day",
         "Martin Luther King, Jr. Day",
         "US",
         false,
         true,
         "",
         null,
         [
          "Public"
         ],
         "Jan",
         "Monday"
        ],
        [
         "2025-02-12",
         "Lincoln's Birthday",
         "Lincoln's Birthday",
         "US",
         false,
         false,
         "US-CA,US-CT,US-IL,US-IN,US-KY,US-MI,US-NY,US-MO,US-OH",
         null,
         [
          "Observance"
         ],
         "Feb",
         "Wednesday"
        ],
        [
         "2025-02-17",
         "Washington's Birthday",
         "Presidents Day",
         "US",
         false,
         true,
         "",
         null,
         [
          "Public"
         ],
         "Feb",
         "Monday"
        ],
        [
         "2025-04-18",
         "Good Friday",
         "Good Friday",
         "US",
         false,
         false,
         "US-CT,US-DE,US-HI,US-IN,US-KY,US-LA,US-NC,US-ND,US-NJ,US-TN",
         null,
         [
          "Public"
         ],
         "Apr",
         "Friday"
        ],
        [
         "2025-04-18",
         "Good Friday",
         "Good Friday",
         "US",
         false,
         false,
         "US-TX",
         null,
         [
          "Optional"
         ],
         "Apr",
         "Friday"
        ],
        [
         "2025-05-08",
         "Truman Day",
         "Truman Day",
         "US",
         false,
         false,
         "US-MO",
         null,
         [
          "School",
          "Authorities"
         ],
         "May",
         "Thursday"
        ],
        [
         "2025-05-26",
         "Memorial Day",
         "Memorial Day",
         "US",
         false,
         true,
         "",
         null,
         [
          "Public"
         ],
         "May",
         "Monday"
        ],
        [
         "2025-06-19",
         "Juneteenth National Independence Day",
         "Juneteenth National Independence Day",
         "US",
         false,
         true,
         "",
         null,
         [
          "Public"
         ],
         "Jun",
         "Thursday"
        ],
        [
         "2025-07-04",
         "Independence Day",
         "Independence Day",
         "US",
         false,
         true,
         "",
         null,
         [
          "Public"
         ],
         "Jul",
         "Friday"
        ],
        [
         "2025-09-01",
         "Labour Day",
         "Labor Day",
         "US",
         false,
         true,
         "",
         null,
         [
          "Public"
         ],
         "Sep",
         "Monday"
        ],
        [
         "2025-10-13",
         "Columbus Day",
         "Columbus Day",
         "US",
         false,
         false,
         "US-AL,US-AZ,US-CO,US-CT,US-GA,US-ID,US-IL,US-IN,US-IA,US-KS,US-KY,US-LA,US-ME,US-MD,US-MA,US-MS,US-MO,US-MT,US-NE,US-NH,US-NJ,US-NM,US-NY,US-NC,US-OH,US-OK,US-PA,US-RI,US-SC,US-TN,US-UT,US-VA,US-WV",
         null,
         [
          "Public"
         ],
         "Oct",
         "Monday"
        ],
        [
         "2025-10-13",
         "Indigenous Peoples' Day",
         "Indigenous Peoples' Day",
         "US",
         false,
         false,
         "US-AK,US-AL,US-CA,US-HI,US-IA,US-LA,US-ME,US-MI,US-MN,US-NC,US-NE,US-NM,US-OK,US-OR,US-SD,US-TX,US-VA,US-VT,US-WI",
         null,
         [
          "Public"
         ],
         "Oct",
         "Monday"
        ],
        [
         "2025-11-11",
         "Veterans Day",
         "Veterans Day",
         "US",
         false,
         true,
         "",
         null,
         [
          "Public"
         ],
         "Nov",
         "Tuesday"
        ],
        [
         "2025-11-27",
         "Thanksgiving Day",
         "Thanksgiving Day",
         "US",
         false,
         true,
         "",
         null,
         [
          "Public"
         ],
         "Nov",
         "Thursday"
        ],
        [
         "2025-12-25",
         "Christmas Day",
         "Christmas Day",
         "US",
         false,
         true,
         "",
         null,
         [
          "Public"
         ],
         "Dec",
         "Thursday"
        ]
       ],
       "datasetInfos": [],
       "dbfsResultPath": null,
       "isJsonSchema": true,
       "metadata": {},
       "overflow": false,
       "plotOptions": {
        "customPlotOptions": {},
        "displayType": "table",
        "pivotAggregation": null,
        "pivotColumns": null,
        "xColumns": null,
        "yColumns": null
       },
       "removedWidgets": [],
       "schema": [
        {
         "metadata": "{}",
         "name": "date",
         "type": "\"date\""
        },
        {
         "metadata": "{}",
         "name": "localName",
         "type": "\"string\""
        },
        {
         "metadata": "{}",
         "name": "name",
         "type": "\"string\""
        },
        {
         "metadata": "{}",
         "name": "countryCode",
         "type": "\"string\""
        },
        {
         "metadata": "{}",
         "name": "fixed",
         "type": "\"boolean\""
        },
        {
         "metadata": "{}",
         "name": "global",
         "type": "\"boolean\""
        },
        {
         "metadata": "{}",
         "name": "counties",
         "type": "\"string\""
        },
        {
         "metadata": "{}",
         "name": "launchYear",
         "type": "\"void\""
        },
        {
         "metadata": "{}",
         "name": "types",
         "type": "{\"type\":\"array\",\"elementType\":\"string\",\"containsNull\":true}"
        },
        {
         "metadata": "{}",
         "name": "holiday_month",
         "type": "\"string\""
        },
        {
         "metadata": "{}",
         "name": "Weekday_name",
         "type": "\"string\""
        }
       ],
       "type": "table"
      }
     },
     "output_type": "display_data"
    }
   ],
   "source": [
    "from pyspark.sql.functions import monthname, date_format\n",
    "sourceSparkDF = sourceSparkDF.withColumn(\"holiday_month\", monthname('date'))\n",
    "sourceSparkDF = sourceSparkDF.withColumn(\"Weekday_name\", date_format('date', 'EEEE'))\n",
    "display(sourceSparkDF)"
   ]
  },
  {
   "cell_type": "code",
   "execution_count": 0,
   "metadata": {
    "application/vnd.databricks.v1+cell": {
     "cellMetadata": {
      "byteLimit": 2048000,
      "rowLimit": 10000
     },
     "inputWidgets": {},
     "nuid": "81ccda86-763f-4a82-9e94-95805e83960b",
     "showTitle": false,
     "tableResultSettingsMap": {},
     "title": ""
    }
   },
   "outputs": [
    {
     "data": {
      "text/html": [
       "<style scoped>\n",
       "  .table-result-container {\n",
       "    max-height: 300px;\n",
       "    overflow: auto;\n",
       "  }\n",
       "  table, th, td {\n",
       "    border: 1px solid black;\n",
       "    border-collapse: collapse;\n",
       "  }\n",
       "  th, td {\n",
       "    padding: 5px;\n",
       "  }\n",
       "  th {\n",
       "    text-align: left;\n",
       "  }\n",
       "</style><div class='table-result-container'><table class='table-result'><thead style='background-color: white'><tr><th>Weekday_name</th><th>count</th></tr></thead><tbody><tr><td>Monday</td><td>6</td></tr></tbody></table></div>"
      ]
     },
     "metadata": {
      "application/vnd.databricks.v1+output": {
       "addedWidgets": {},
       "aggData": [],
       "aggError": "",
       "aggOverflow": false,
       "aggSchema": [],
       "aggSeriesLimitReached": false,
       "aggType": "",
       "arguments": {},
       "columnCustomDisplayInfos": {},
       "data": [
        [
         "Monday",
         6
        ]
       ],
       "datasetInfos": [],
       "dbfsResultPath": null,
       "isJsonSchema": true,
       "metadata": {},
       "overflow": false,
       "plotOptions": {
        "customPlotOptions": {},
        "displayType": "table",
        "pivotAggregation": null,
        "pivotColumns": null,
        "xColumns": null,
        "yColumns": null
       },
       "removedWidgets": [],
       "schema": [
        {
         "metadata": "{}",
         "name": "Weekday_name",
         "type": "\"string\""
        },
        {
         "metadata": "{}",
         "name": "count",
         "type": "\"long\""
        }
       ],
       "type": "table"
      }
     },
     "output_type": "display_data"
    }
   ],
   "source": [
    "from pyspark.sql.functions import col, count, desc\n",
    "weekwithmostholidaysDF = (\n",
    "    sourceSparkDF\n",
    "    .groupBy(\"Weekday_name\")\n",
    "    .agg(count(\"*\").alias(\"count\"))\n",
    "    .orderBy(col(\"count\").desc())\n",
    "    .limit(1)\n",
    ")\n",
    "display(weekwithmostholidaysDF) # Monday"
   ]
  },
  {
   "cell_type": "markdown",
   "metadata": {
    "application/vnd.databricks.v1+cell": {
     "cellMetadata": {},
     "inputWidgets": {},
     "nuid": "7303815c-60ac-4ec9-af21-9755c884e3b0",
     "showTitle": false,
     "tableResultSettingsMap": {},
     "title": ""
    }
   },
   "source": [
    "Task 4: Business Use Case - Holiday Analysis\n",
    "\n",
    "Q10. Group holidays by weekday_name and count them.\n",
    "Q11. Suggest 2 insights HR can use based on weekday-wise distribution.\n",
    "Q12. Identify months with more than 2 holidays. What are they?"
   ]
  },
  {
   "cell_type": "code",
   "execution_count": 0,
   "metadata": {
    "application/vnd.databricks.v1+cell": {
     "cellMetadata": {
      "byteLimit": 2048000,
      "rowLimit": 10000
     },
     "inputWidgets": {},
     "nuid": "f531ce2f-2ce5-4948-b626-5341cc9161b4",
     "showTitle": false,
     "tableResultSettingsMap": {},
     "title": ""
    }
   },
   "outputs": [
    {
     "name": "stdout",
     "output_type": "stream",
     "text": [
      "+------------+-----+\n",
      "|Weekday_name|count|\n",
      "+------------+-----+\n",
      "|   Wednesday|    2|\n",
      "|      Monday|    6|\n",
      "|      Friday|    3|\n",
      "|    Thursday|    4|\n",
      "|     Tuesday|    1|\n",
      "+------------+-----+\n",
      "\n"
     ]
    }
   ],
   "source": [
    "weekdayholidaysDF = (\n",
    "  sourceSparkDF\n",
    "  .groupBy(\"Weekday_name\")\n",
    "  .agg(count(\"*\").alias(\"count\")\n",
    ").show()\n",
    ")"
   ]
  },
  {
   "cell_type": "code",
   "execution_count": 0,
   "metadata": {
    "application/vnd.databricks.v1+cell": {
     "cellMetadata": {
      "byteLimit": 2048000,
      "rowLimit": 10000
     },
     "inputWidgets": {},
     "nuid": "7db27ba9-f8bb-4039-af13-af44b6d7c80d",
     "showTitle": false,
     "tableResultSettingsMap": {},
     "title": ""
    }
   },
   "outputs": [
    {
     "name": "stdout",
     "output_type": "stream",
     "text": [
      "+-------------+-----+\n",
      "|holiday_month|count|\n",
      "+-------------+-----+\n",
      "+-------------+-----+\n",
      "\n"
     ]
    }
   ],
   "source": [
    "monthwithmoreholidaysDF = (\n",
    "    sourceSparkDF\n",
    "    .groupBy(\"holiday_month\")\n",
    "    .agg(count(\"*\").alias(\"count\"))\n",
    "    .filter(\"count > 2\")\n",
    ").show()"
   ]
  },
  {
   "cell_type": "markdown",
   "metadata": {
    "application/vnd.databricks.v1+cell": {
     "cellMetadata": {},
     "inputWidgets": {},
     "nuid": "ae81ef85-05a9-4293-95f4-066f7a840448",
     "showTitle": false,
     "tableResultSettingsMap": {},
     "title": ""
    }
   },
   "source": [
    "Task 5: Data Storage & Delivery\n",
    "\n",
    "Q13. Save the transformed data in:\n",
    "JSON format\n",
    "Parquet format\n",
    "Ensure overwrite mode is enabled.\n",
    "Q14. Mount or use the Azure Data Lake Storage (ADLS) path to write output files.\n",
    "Q15. Document the full ADLS path used and the type of container."
   ]
  },
  {
   "cell_type": "code",
   "execution_count": 0,
   "metadata": {
    "application/vnd.databricks.v1+cell": {
     "cellMetadata": {
      "byteLimit": 2048000,
      "rowLimit": 10000
     },
     "inputWidgets": {},
     "nuid": "183d0530-3d93-4e98-b475-cea806e9b206",
     "showTitle": false,
     "tableResultSettingsMap": {},
     "title": ""
    }
   },
   "outputs": [],
   "source": [
    "from pyspark.sql.functions import lit, col, concat_ws\n",
    "sourceCSVFilePath = \"abfss://working-labs@myfirstdemostorageacc.dfs.core.windows.net/holidays2025.csv\"\n",
    "sourceSparkDF = sourceSparkDF.withColumn(\"launchYear\",lit(None).cast(\"int\"))\n",
    "sourceSparkDF = sourceSparkDF.withColumn(\"types\", concat_ws(\",\", col(\"types\")))\n",
    "sourceSparkDF.write\\\n",
    ".mode(\"overwrite\")\\\n",
    ".format(\"csv\")\\\n",
    ".option(\"headers\", True)\\\n",
    ".save(sourceCSVFilePath)\n"
   ]
  },
  {
   "cell_type": "code",
   "execution_count": 0,
   "metadata": {
    "application/vnd.databricks.v1+cell": {
     "cellMetadata": {
      "byteLimit": 2048000,
      "rowLimit": 10000
     },
     "inputWidgets": {},
     "nuid": "8764ad56-d33c-42ab-b3d9-e8c818b9ac51",
     "showTitle": false,
     "tableResultSettingsMap": {},
     "title": ""
    }
   },
   "outputs": [],
   "source": [
    "sourceCSVFilePath = \"abfss://working-labs@myfirstdemostorageacc.dfs.core.windows.net/holidays2025.csv\"\n",
    "targetJsonFilePath = \"abfss://working-labs@myfirstdemostorageacc.dfs.core.windows.net/PublicHolidays2025.json\""
   ]
  },
  {
   "cell_type": "code",
   "execution_count": 0,
   "metadata": {
    "application/vnd.databricks.v1+cell": {
     "cellMetadata": {
      "byteLimit": 2048000,
      "rowLimit": 10000
     },
     "inputWidgets": {},
     "nuid": "5f246ace-0b1b-4054-8e0a-f2b0202152fa",
     "showTitle": false,
     "tableResultSettingsMap": {},
     "title": ""
    }
   },
   "outputs": [],
   "source": [
    "sourceCSVFileDF = (\n",
    "    spark.\n",
    "    read.\n",
    "    option(\"header\", \"true\").\n",
    "    csv(\n",
    "        sourceCSVFilePath,\n",
    ")\n",
    ")"
   ]
  },
  {
   "cell_type": "code",
   "execution_count": 0,
   "metadata": {
    "application/vnd.databricks.v1+cell": {
     "cellMetadata": {
      "byteLimit": 2048000,
      "rowLimit": 10000
     },
     "inputWidgets": {},
     "nuid": "c21e885e-b86e-4fac-94c7-14a1fbb4a795",
     "showTitle": false,
     "tableResultSettingsMap": {},
     "title": ""
    }
   },
   "outputs": [
    {
     "data": {
      "text/plain": [
       "date           object\n",
       "localName      object\n",
       "name           object\n",
       "countryCode    object\n",
       "fixed            bool\n",
       "global           bool\n",
       "counties       object\n",
       "launchYear     object\n",
       "types          object\n",
       "dtype: object"
      ]
     },
     "execution_count": 44,
     "metadata": {},
     "output_type": "execute_result"
    }
   ],
   "source": [
    "df.dtypes"
   ]
  },
  {
   "cell_type": "code",
   "execution_count": 0,
   "metadata": {
    "application/vnd.databricks.v1+cell": {
     "cellMetadata": {
      "byteLimit": 2048000,
      "rowLimit": 10000
     },
     "inputWidgets": {},
     "nuid": "bdbaa6de-d475-4d13-805a-d913ac2a3b81",
     "showTitle": false,
     "tableResultSettingsMap": {},
     "title": ""
    }
   },
   "outputs": [
    {
     "data": {
      "text/plain": [
       "<pyspark.sql.readwriter.DataFrameWriter at 0x7f61d17b1160>"
      ]
     },
     "execution_count": 45,
     "metadata": {},
     "output_type": "execute_result"
    }
   ],
   "source": [
    "from pyspark.sql.types import *\n",
    "sourceCSVFileSchema=StructType([\n",
    "    StructField(\"date\", StringType(), True),\n",
    "    StructField(\"localName \",  StringType(), True),\n",
    "    StructField(\"name\", StringType(), True),\n",
    "    StructField(\"countryCode \", IntegerType(), True) ,\n",
    "    StructField(\"fixed\", BooleanType(), True),\n",
    "    StructField(\"global\", BooleanType(), True),\n",
    "    StructField(\"counties\", StringType(), True),\n",
    "    StructField(\"launchYear\", StringType(), True),\n",
    "    StructField(\"types \", DecimalType(10,2),True)\n",
    "])\n",
    "sourceCSVFileDF=spark.read.schema(sourceCSVFileSchema).csv(sourceCSVFilePath)\n",
    "sourceCSVFileDF.write.mode(\"overwrite\")"
   ]
  },
  {
   "cell_type": "code",
   "execution_count": 0,
   "metadata": {
    "application/vnd.databricks.v1+cell": {
     "cellMetadata": {
      "byteLimit": 2048000,
      "rowLimit": 10000
     },
     "inputWidgets": {},
     "nuid": "e4f0759f-e687-4961-90bc-fac676b2458f",
     "showTitle": false,
     "tableResultSettingsMap": {},
     "title": ""
    }
   },
   "outputs": [],
   "source": [
    "sourceCSVFileDF=(\n",
    "    spark.\n",
    "    read.\n",
    "    schema(sourceCSVFileSchema).\n",
    "    csv(sourceCSVFilePath)\n",
    ")"
   ]
  },
  {
   "cell_type": "code",
   "execution_count": 0,
   "metadata": {
    "application/vnd.databricks.v1+cell": {
     "cellMetadata": {
      "byteLimit": 2048000,
      "rowLimit": 10000
     },
     "inputWidgets": {},
     "nuid": "19c63dd8-4d25-4eb8-8c2a-f1653e0db8a6",
     "showTitle": false,
     "tableResultSettingsMap": {},
     "title": ""
    }
   },
   "outputs": [
    {
     "data": {
      "text/html": [
       "<style scoped>\n",
       "  .table-result-container {\n",
       "    max-height: 300px;\n",
       "    overflow: auto;\n",
       "  }\n",
       "  table, th, td {\n",
       "    border: 1px solid black;\n",
       "    border-collapse: collapse;\n",
       "  }\n",
       "  th, td {\n",
       "    padding: 5px;\n",
       "  }\n",
       "  th {\n",
       "    text-align: left;\n",
       "  }\n",
       "</style><div class='table-result-container'><table class='table-result'><thead style='background-color: white'><tr><th>date</th><th>localName </th><th>name</th><th>countryCode </th><th>fixed</th><th>global</th><th>counties</th><th>launchYear</th><th>types </th></tr></thead><tbody><tr><td>2025-06-19</td><td>Juneteenth National Independence Day</td><td>Juneteenth National Independence Day</td><td>null</td><td>false</td><td>true</td><td>null</td><td>null</td><td>null</td></tr><tr><td>2025-07-04</td><td>Independence Day</td><td>Independence Day</td><td>null</td><td>false</td><td>true</td><td>null</td><td>null</td><td>null</td></tr><tr><td>2025-09-01</td><td>Labour Day</td><td>Labor Day</td><td>null</td><td>false</td><td>true</td><td>null</td><td>null</td><td>null</td></tr><tr><td>2025-10-13</td><td>Columbus Day</td><td>Columbus Day</td><td>null</td><td>false</td><td>false</td><td>US-AL,US-AZ,US-CO,US-CT,US-GA,US-ID,US-IL,US-IN,US-IA,US-KS,US-KY,US-LA,US-ME,US-MD,US-MA,US-MS,US-MO,US-MT,US-NE,US-NH,US-NJ,US-NM,US-NY,US-NC,US-OH,US-OK,US-PA,US-RI,US-SC,US-TN,US-UT,US-VA,US-WV</td><td>null</td><td>null</td></tr><tr><td>2025-10-13</td><td>Indigenous Peoples' Day</td><td>Indigenous Peoples' Day</td><td>null</td><td>false</td><td>false</td><td>US-AK,US-AL,US-CA,US-HI,US-IA,US-LA,US-ME,US-MI,US-MN,US-NC,US-NE,US-NM,US-OK,US-OR,US-SD,US-TX,US-VA,US-VT,US-WI</td><td>null</td><td>null</td></tr><tr><td>2025-11-11</td><td>Veterans Day</td><td>Veterans Day</td><td>null</td><td>false</td><td>true</td><td>null</td><td>null</td><td>null</td></tr><tr><td>2025-11-27</td><td>Thanksgiving Day</td><td>Thanksgiving Day</td><td>null</td><td>false</td><td>true</td><td>null</td><td>null</td><td>null</td></tr><tr><td>2025-12-25</td><td>Christmas Day</td><td>Christmas Day</td><td>null</td><td>false</td><td>true</td><td>null</td><td>null</td><td>null</td></tr><tr><td>2025-01-01</td><td>New Year's Day</td><td>New Year's Day</td><td>null</td><td>false</td><td>true</td><td>null</td><td>null</td><td>null</td></tr><tr><td>2025-01-20</td><td>Martin Luther King, Jr. Day</td><td>Martin Luther King, Jr. Day</td><td>null</td><td>false</td><td>true</td><td>null</td><td>null</td><td>null</td></tr><tr><td>2025-02-12</td><td>Lincoln's Birthday</td><td>Lincoln's Birthday</td><td>null</td><td>false</td><td>false</td><td>US-CA,US-CT,US-IL,US-IN,US-KY,US-MI,US-NY,US-MO,US-OH</td><td>null</td><td>null</td></tr><tr><td>2025-02-17</td><td>Washington's Birthday</td><td>Presidents Day</td><td>null</td><td>false</td><td>true</td><td>null</td><td>null</td><td>null</td></tr><tr><td>2025-04-18</td><td>Good Friday</td><td>Good Friday</td><td>null</td><td>false</td><td>false</td><td>US-CT,US-DE,US-HI,US-IN,US-KY,US-LA,US-NC,US-ND,US-NJ,US-TN</td><td>null</td><td>null</td></tr><tr><td>2025-04-18</td><td>Good Friday</td><td>Good Friday</td><td>null</td><td>false</td><td>false</td><td>US-TX</td><td>null</td><td>null</td></tr><tr><td>2025-05-08</td><td>Truman Day</td><td>Truman Day</td><td>null</td><td>false</td><td>false</td><td>US-MO</td><td>null</td><td>null</td></tr><tr><td>2025-05-26</td><td>Memorial Day</td><td>Memorial Day</td><td>null</td><td>false</td><td>true</td><td>null</td><td>null</td><td>null</td></tr></tbody></table></div>"
      ]
     },
     "metadata": {
      "application/vnd.databricks.v1+output": {
       "addedWidgets": {},
       "aggData": [],
       "aggError": "",
       "aggOverflow": false,
       "aggSchema": [],
       "aggSeriesLimitReached": false,
       "aggType": "",
       "arguments": {},
       "columnCustomDisplayInfos": {},
       "data": [
        [
         "2025-06-19",
         "Juneteenth National Independence Day",
         "Juneteenth National Independence Day",
         null,
         false,
         true,
         null,
         null,
         null
        ],
        [
         "2025-07-04",
         "Independence Day",
         "Independence Day",
         null,
         false,
         true,
         null,
         null,
         null
        ],
        [
         "2025-09-01",
         "Labour Day",
         "Labor Day",
         null,
         false,
         true,
         null,
         null,
         null
        ],
        [
         "2025-10-13",
         "Columbus Day",
         "Columbus Day",
         null,
         false,
         false,
         "US-AL,US-AZ,US-CO,US-CT,US-GA,US-ID,US-IL,US-IN,US-IA,US-KS,US-KY,US-LA,US-ME,US-MD,US-MA,US-MS,US-MO,US-MT,US-NE,US-NH,US-NJ,US-NM,US-NY,US-NC,US-OH,US-OK,US-PA,US-RI,US-SC,US-TN,US-UT,US-VA,US-WV",
         null,
         null
        ],
        [
         "2025-10-13",
         "Indigenous Peoples' Day",
         "Indigenous Peoples' Day",
         null,
         false,
         false,
         "US-AK,US-AL,US-CA,US-HI,US-IA,US-LA,US-ME,US-MI,US-MN,US-NC,US-NE,US-NM,US-OK,US-OR,US-SD,US-TX,US-VA,US-VT,US-WI",
         null,
         null
        ],
        [
         "2025-11-11",
         "Veterans Day",
         "Veterans Day",
         null,
         false,
         true,
         null,
         null,
         null
        ],
        [
         "2025-11-27",
         "Thanksgiving Day",
         "Thanksgiving Day",
         null,
         false,
         true,
         null,
         null,
         null
        ],
        [
         "2025-12-25",
         "Christmas Day",
         "Christmas Day",
         null,
         false,
         true,
         null,
         null,
         null
        ],
        [
         "2025-01-01",
         "New Year's Day",
         "New Year's Day",
         null,
         false,
         true,
         null,
         null,
         null
        ],
        [
         "2025-01-20",
         "Martin Luther King, Jr. Day",
         "Martin Luther King, Jr. Day",
         null,
         false,
         true,
         null,
         null,
         null
        ],
        [
         "2025-02-12",
         "Lincoln's Birthday",
         "Lincoln's Birthday",
         null,
         false,
         false,
         "US-CA,US-CT,US-IL,US-IN,US-KY,US-MI,US-NY,US-MO,US-OH",
         null,
         null
        ],
        [
         "2025-02-17",
         "Washington's Birthday",
         "Presidents Day",
         null,
         false,
         true,
         null,
         null,
         null
        ],
        [
         "2025-04-18",
         "Good Friday",
         "Good Friday",
         null,
         false,
         false,
         "US-CT,US-DE,US-HI,US-IN,US-KY,US-LA,US-NC,US-ND,US-NJ,US-TN",
         null,
         null
        ],
        [
         "2025-04-18",
         "Good Friday",
         "Good Friday",
         null,
         false,
         false,
         "US-TX",
         null,
         null
        ],
        [
         "2025-05-08",
         "Truman Day",
         "Truman Day",
         null,
         false,
         false,
         "US-MO",
         null,
         null
        ],
        [
         "2025-05-26",
         "Memorial Day",
         "Memorial Day",
         null,
         false,
         true,
         null,
         null,
         null
        ]
       ],
       "datasetInfos": [],
       "dbfsResultPath": null,
       "isJsonSchema": true,
       "metadata": {},
       "overflow": false,
       "plotOptions": {
        "customPlotOptions": {},
        "displayType": "table",
        "pivotAggregation": null,
        "pivotColumns": null,
        "xColumns": null,
        "yColumns": null
       },
       "removedWidgets": [],
       "schema": [
        {
         "metadata": "{}",
         "name": "date",
         "type": "\"string\""
        },
        {
         "metadata": "{}",
         "name": "localName ",
         "type": "\"string\""
        },
        {
         "metadata": "{}",
         "name": "name",
         "type": "\"string\""
        },
        {
         "metadata": "{}",
         "name": "countryCode ",
         "type": "\"integer\""
        },
        {
         "metadata": "{}",
         "name": "fixed",
         "type": "\"boolean\""
        },
        {
         "metadata": "{}",
         "name": "global",
         "type": "\"boolean\""
        },
        {
         "metadata": "{}",
         "name": "counties",
         "type": "\"string\""
        },
        {
         "metadata": "{}",
         "name": "launchYear",
         "type": "\"string\""
        },
        {
         "metadata": "{}",
         "name": "types ",
         "type": "\"decimal(10,2)\""
        }
       ],
       "type": "table"
      }
     },
     "output_type": "display_data"
    }
   ],
   "source": [
    "display(sourceCSVFileDF)"
   ]
  },
  {
   "cell_type": "code",
   "execution_count": 0,
   "metadata": {
    "application/vnd.databricks.v1+cell": {
     "cellMetadata": {
      "byteLimit": 2048000,
      "rowLimit": 10000
     },
     "inputWidgets": {},
     "nuid": "1b93bb29-403c-466b-9dd4-6eeaa7b42353",
     "showTitle": false,
     "tableResultSettingsMap": {},
     "title": ""
    }
   },
   "outputs": [
    {
     "name": "stdout",
     "output_type": "stream",
     "text": [
      "root\n",
      " |-- date: string (nullable = true)\n",
      " |-- localName : string (nullable = true)\n",
      " |-- name: string (nullable = true)\n",
      " |-- countryCode : integer (nullable = true)\n",
      " |-- fixed: boolean (nullable = true)\n",
      " |-- global: boolean (nullable = true)\n",
      " |-- counties: string (nullable = true)\n",
      " |-- launchYear: string (nullable = true)\n",
      " |-- types : decimal(10,2) (nullable = true)\n",
      "\n"
     ]
    }
   ],
   "source": [
    "sourceCSVFileDF.printSchema()"
   ]
  },
  {
   "cell_type": "code",
   "execution_count": 0,
   "metadata": {
    "application/vnd.databricks.v1+cell": {
     "cellMetadata": {
      "byteLimit": 2048000,
      "rowLimit": 10000
     },
     "inputWidgets": {},
     "nuid": "a060966d-4fab-44f5-b197-d95afe4f60bf",
     "showTitle": false,
     "tableResultSettingsMap": {},
     "title": ""
    }
   },
   "outputs": [],
   "source": [
    "(\n",
    "    sourceCSVFileDF.\n",
    "    write.\n",
    "    mode(\"overwrite\").\n",
    "    json(targetJsonFilePath)\n",
    ")"
   ]
  },
  {
   "cell_type": "code",
   "execution_count": 0,
   "metadata": {
    "application/vnd.databricks.v1+cell": {
     "cellMetadata": {
      "byteLimit": 2048000,
      "rowLimit": 10000
     },
     "inputWidgets": {},
     "nuid": "887ab3b1-1a29-4d3b-b961-d64b46df6704",
     "showTitle": false,
     "tableResultSettingsMap": {},
     "title": ""
    }
   },
   "outputs": [],
   "source": [
    "targetPARQUETFilePath='abfss://working-labs@myfirstdemostorageacc.dfs.core.windows.net/PublicHolidaysparquet'"
   ]
  },
  {
   "cell_type": "code",
   "execution_count": 0,
   "metadata": {
    "application/vnd.databricks.v1+cell": {
     "cellMetadata": {
      "byteLimit": 2048000,
      "rowLimit": 10000
     },
     "inputWidgets": {},
     "nuid": "824f0e39-d8f7-484a-af58-2a5109d60c95",
     "showTitle": false,
     "tableResultSettingsMap": {},
     "title": ""
    }
   },
   "outputs": [
    {
     "data": {
      "text/plain": [
       "<pyspark.sql.readwriter.DataFrameWriter at 0x7f61d23aa570>"
      ]
     },
     "execution_count": 57,
     "metadata": {},
     "output_type": "execute_result"
    }
   ],
   "source": [
    "from pyspark.sql.types import *\n",
    "sourceCSVFileSchema1=StructType([\n",
    "    StructField(\"date\", StringType(), True),\n",
    "    StructField(\"localName\",  StringType(), True),\n",
    "    StructField(\"name\", StringType(), True),\n",
    "    StructField(\"countryCode\", IntegerType(), True) ,\n",
    "    StructField(\"fixed\", BooleanType(), True),\n",
    "    StructField(\"global\", BooleanType(), True),\n",
    "    StructField(\"counties\", StringType(), True),\n",
    "    StructField(\"launchYear\", StringType(), True),\n",
    "    StructField(\"types\", DecimalType(10,2),True)\n",
    "])\n",
    "sourceCSVFileDF=spark.read.schema(sourceCSVFileSchema).csv(sourceCSVFilePath)\n",
    "sourceCSVFileDF.write.mode(\"overwrite\")"
   ]
  },
  {
   "cell_type": "code",
   "execution_count": 0,
   "metadata": {
    "application/vnd.databricks.v1+cell": {
     "cellMetadata": {
      "byteLimit": 2048000,
      "rowLimit": 10000
     },
     "inputWidgets": {},
     "nuid": "1977a489-7fca-4174-8f2c-cee0d6b456a0",
     "showTitle": false,
     "tableResultSettingsMap": {},
     "title": ""
    }
   },
   "outputs": [],
   "source": [
    "sourceCSVFileDF = ( spark.\n",
    "                   read.\n",
    "                   schema(sourceCSVFileSchema1).\n",
    "                   csv(sourceCSVFilePath) \n",
    "                  )"
   ]
  },
  {
   "cell_type": "code",
   "execution_count": 0,
   "metadata": {
    "application/vnd.databricks.v1+cell": {
     "cellMetadata": {
      "byteLimit": 2048000,
      "rowLimit": 10000
     },
     "inputWidgets": {},
     "nuid": "2ea2cb58-bd11-42e0-9e8b-5dbc20895f87",
     "showTitle": false,
     "tableResultSettingsMap": {},
     "title": ""
    }
   },
   "outputs": [],
   "source": [
    "(\n",
    "    sourceCSVFileDF.\n",
    "    write.\n",
    "    mode(\"overwrite\").\n",
    "    format(\"delta\").\n",
    "    save(targetPARQUETFilePath)\n",
    ")"
   ]
  },
  {
   "cell_type": "code",
   "execution_count": 0,
   "metadata": {
    "application/vnd.databricks.v1+cell": {
     "cellMetadata": {
      "byteLimit": 2048000,
      "rowLimit": 10000
     },
     "inputWidgets": {},
     "nuid": "267bf04f-0e60-4985-a45e-eac5b0e7547e",
     "showTitle": false,
     "tableResultSettingsMap": {},
     "title": ""
    }
   },
   "outputs": [
    {
     "data": {
      "text/html": [
       "<style scoped>\n",
       "  .table-result-container {\n",
       "    max-height: 300px;\n",
       "    overflow: auto;\n",
       "  }\n",
       "  table, th, td {\n",
       "    border: 1px solid black;\n",
       "    border-collapse: collapse;\n",
       "  }\n",
       "  th, td {\n",
       "    padding: 5px;\n",
       "  }\n",
       "  th {\n",
       "    text-align: left;\n",
       "  }\n",
       "</style><div class='table-result-container'><table class='table-result'><thead style='background-color: white'><tr><th>date</th><th>localName</th><th>name</th><th>countryCode</th><th>fixed</th><th>global</th><th>counties</th><th>launchYear</th><th>types</th></tr></thead><tbody><tr><td>2025-06-19</td><td>Juneteenth National Independence Day</td><td>Juneteenth National Independence Day</td><td>null</td><td>false</td><td>true</td><td>null</td><td>null</td><td>null</td></tr><tr><td>2025-07-04</td><td>Independence Day</td><td>Independence Day</td><td>null</td><td>false</td><td>true</td><td>null</td><td>null</td><td>null</td></tr><tr><td>2025-09-01</td><td>Labour Day</td><td>Labor Day</td><td>null</td><td>false</td><td>true</td><td>null</td><td>null</td><td>null</td></tr><tr><td>2025-10-13</td><td>Columbus Day</td><td>Columbus Day</td><td>null</td><td>false</td><td>false</td><td>US-AL,US-AZ,US-CO,US-CT,US-GA,US-ID,US-IL,US-IN,US-IA,US-KS,US-KY,US-LA,US-ME,US-MD,US-MA,US-MS,US-MO,US-MT,US-NE,US-NH,US-NJ,US-NM,US-NY,US-NC,US-OH,US-OK,US-PA,US-RI,US-SC,US-TN,US-UT,US-VA,US-WV</td><td>null</td><td>null</td></tr><tr><td>2025-10-13</td><td>Indigenous Peoples' Day</td><td>Indigenous Peoples' Day</td><td>null</td><td>false</td><td>false</td><td>US-AK,US-AL,US-CA,US-HI,US-IA,US-LA,US-ME,US-MI,US-MN,US-NC,US-NE,US-NM,US-OK,US-OR,US-SD,US-TX,US-VA,US-VT,US-WI</td><td>null</td><td>null</td></tr><tr><td>2025-11-11</td><td>Veterans Day</td><td>Veterans Day</td><td>null</td><td>false</td><td>true</td><td>null</td><td>null</td><td>null</td></tr><tr><td>2025-11-27</td><td>Thanksgiving Day</td><td>Thanksgiving Day</td><td>null</td><td>false</td><td>true</td><td>null</td><td>null</td><td>null</td></tr><tr><td>2025-12-25</td><td>Christmas Day</td><td>Christmas Day</td><td>null</td><td>false</td><td>true</td><td>null</td><td>null</td><td>null</td></tr><tr><td>2025-01-01</td><td>New Year's Day</td><td>New Year's Day</td><td>null</td><td>false</td><td>true</td><td>null</td><td>null</td><td>null</td></tr><tr><td>2025-01-20</td><td>Martin Luther King, Jr. Day</td><td>Martin Luther King, Jr. Day</td><td>null</td><td>false</td><td>true</td><td>null</td><td>null</td><td>null</td></tr><tr><td>2025-02-12</td><td>Lincoln's Birthday</td><td>Lincoln's Birthday</td><td>null</td><td>false</td><td>false</td><td>US-CA,US-CT,US-IL,US-IN,US-KY,US-MI,US-NY,US-MO,US-OH</td><td>null</td><td>null</td></tr><tr><td>2025-02-17</td><td>Washington's Birthday</td><td>Presidents Day</td><td>null</td><td>false</td><td>true</td><td>null</td><td>null</td><td>null</td></tr><tr><td>2025-04-18</td><td>Good Friday</td><td>Good Friday</td><td>null</td><td>false</td><td>false</td><td>US-CT,US-DE,US-HI,US-IN,US-KY,US-LA,US-NC,US-ND,US-NJ,US-TN</td><td>null</td><td>null</td></tr><tr><td>2025-04-18</td><td>Good Friday</td><td>Good Friday</td><td>null</td><td>false</td><td>false</td><td>US-TX</td><td>null</td><td>null</td></tr><tr><td>2025-05-08</td><td>Truman Day</td><td>Truman Day</td><td>null</td><td>false</td><td>false</td><td>US-MO</td><td>null</td><td>null</td></tr><tr><td>2025-05-26</td><td>Memorial Day</td><td>Memorial Day</td><td>null</td><td>false</td><td>true</td><td>null</td><td>null</td><td>null</td></tr></tbody></table></div>"
      ]
     },
     "metadata": {
      "application/vnd.databricks.v1+output": {
       "addedWidgets": {},
       "aggData": [],
       "aggError": "",
       "aggOverflow": false,
       "aggSchema": [],
       "aggSeriesLimitReached": false,
       "aggType": "",
       "arguments": {},
       "columnCustomDisplayInfos": {},
       "data": [
        [
         "2025-06-19",
         "Juneteenth National Independence Day",
         "Juneteenth National Independence Day",
         null,
         false,
         true,
         null,
         null,
         null
        ],
        [
         "2025-07-04",
         "Independence Day",
         "Independence Day",
         null,
         false,
         true,
         null,
         null,
         null
        ],
        [
         "2025-09-01",
         "Labour Day",
         "Labor Day",
         null,
         false,
         true,
         null,
         null,
         null
        ],
        [
         "2025-10-13",
         "Columbus Day",
         "Columbus Day",
         null,
         false,
         false,
         "US-AL,US-AZ,US-CO,US-CT,US-GA,US-ID,US-IL,US-IN,US-IA,US-KS,US-KY,US-LA,US-ME,US-MD,US-MA,US-MS,US-MO,US-MT,US-NE,US-NH,US-NJ,US-NM,US-NY,US-NC,US-OH,US-OK,US-PA,US-RI,US-SC,US-TN,US-UT,US-VA,US-WV",
         null,
         null
        ],
        [
         "2025-10-13",
         "Indigenous Peoples' Day",
         "Indigenous Peoples' Day",
         null,
         false,
         false,
         "US-AK,US-AL,US-CA,US-HI,US-IA,US-LA,US-ME,US-MI,US-MN,US-NC,US-NE,US-NM,US-OK,US-OR,US-SD,US-TX,US-VA,US-VT,US-WI",
         null,
         null
        ],
        [
         "2025-11-11",
         "Veterans Day",
         "Veterans Day",
         null,
         false,
         true,
         null,
         null,
         null
        ],
        [
         "2025-11-27",
         "Thanksgiving Day",
         "Thanksgiving Day",
         null,
         false,
         true,
         null,
         null,
         null
        ],
        [
         "2025-12-25",
         "Christmas Day",
         "Christmas Day",
         null,
         false,
         true,
         null,
         null,
         null
        ],
        [
         "2025-01-01",
         "New Year's Day",
         "New Year's Day",
         null,
         false,
         true,
         null,
         null,
         null
        ],
        [
         "2025-01-20",
         "Martin Luther King, Jr. Day",
         "Martin Luther King, Jr. Day",
         null,
         false,
         true,
         null,
         null,
         null
        ],
        [
         "2025-02-12",
         "Lincoln's Birthday",
         "Lincoln's Birthday",
         null,
         false,
         false,
         "US-CA,US-CT,US-IL,US-IN,US-KY,US-MI,US-NY,US-MO,US-OH",
         null,
         null
        ],
        [
         "2025-02-17",
         "Washington's Birthday",
         "Presidents Day",
         null,
         false,
         true,
         null,
         null,
         null
        ],
        [
         "2025-04-18",
         "Good Friday",
         "Good Friday",
         null,
         false,
         false,
         "US-CT,US-DE,US-HI,US-IN,US-KY,US-LA,US-NC,US-ND,US-NJ,US-TN",
         null,
         null
        ],
        [
         "2025-04-18",
         "Good Friday",
         "Good Friday",
         null,
         false,
         false,
         "US-TX",
         null,
         null
        ],
        [
         "2025-05-08",
         "Truman Day",
         "Truman Day",
         null,
         false,
         false,
         "US-MO",
         null,
         null
        ],
        [
         "2025-05-26",
         "Memorial Day",
         "Memorial Day",
         null,
         false,
         true,
         null,
         null,
         null
        ]
       ],
       "datasetInfos": [],
       "dbfsResultPath": null,
       "isJsonSchema": true,
       "metadata": {},
       "overflow": false,
       "plotOptions": {
        "customPlotOptions": {},
        "displayType": "table",
        "pivotAggregation": null,
        "pivotColumns": null,
        "xColumns": null,
        "yColumns": null
       },
       "removedWidgets": [],
       "schema": [
        {
         "metadata": "{}",
         "name": "date",
         "type": "\"string\""
        },
        {
         "metadata": "{}",
         "name": "localName",
         "type": "\"string\""
        },
        {
         "metadata": "{}",
         "name": "name",
         "type": "\"string\""
        },
        {
         "metadata": "{}",
         "name": "countryCode",
         "type": "\"integer\""
        },
        {
         "metadata": "{}",
         "name": "fixed",
         "type": "\"boolean\""
        },
        {
         "metadata": "{}",
         "name": "global",
         "type": "\"boolean\""
        },
        {
         "metadata": "{}",
         "name": "counties",
         "type": "\"string\""
        },
        {
         "metadata": "{}",
         "name": "launchYear",
         "type": "\"string\""
        },
        {
         "metadata": "{}",
         "name": "types",
         "type": "\"decimal(10,2)\""
        }
       ],
       "type": "table"
      }
     },
     "output_type": "display_data"
    }
   ],
   "source": [
    "(\n",
    "    spark.\n",
    "    read.\n",
    "    load(targetPARQUETFilePath).\n",
    "    display()\n",
    ")"
   ]
  }
 ],
 "metadata": {
  "application/vnd.databricks.v1+notebook": {
   "computePreferences": null,
   "dashboards": [],
   "environmentMetadata": {
    "base_environment": "",
    "environment_version": "2"
   },
   "inputWidgetPreferences": null,
   "language": "python",
   "notebookMetadata": {
    "pythonIndentUnit": 4
   },
   "notebookName": "Assignment (Holiday Impact Analysis) 2025-08-02 11:51:03",
   "widgets": {}
  },
  "language_info": {
   "name": "python"
  }
 },
 "nbformat": 4,
 "nbformat_minor": 0
}
